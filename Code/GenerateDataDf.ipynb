{
 "cells": [
  {
   "cell_type": "code",
   "execution_count": 11,
   "metadata": {},
   "outputs": [],
   "source": [
    "import os\n",
    "import numpy as np\n",
    "import pandas as pd\n",
    "from sklearn.model_selection import GroupKFold, KFold, StratifiedKFold"
   ]
  },
  {
   "cell_type": "code",
   "execution_count": 6,
   "metadata": {},
   "outputs": [],
   "source": [
    "a = pd.read_csv('dataset/split/train_fold_0_seed_960630.csv')['0']"
   ]
  },
  {
   "cell_type": "code",
   "execution_count": 7,
   "metadata": {},
   "outputs": [
    {
     "data": {
      "text/plain": [
       "0         VP097/R001.png\n",
       "1         VP097/R208.png\n",
       "2         VP097/R041.png\n",
       "3         VP097/R085.png\n",
       "4         VP097/R190.png\n",
       "              ...       \n",
       "11041    VNS007/L182.png\n",
       "11042    VNS007/L092.png\n",
       "11043    VNS007/L190.png\n",
       "11044    VNS007/L109.png\n",
       "11045    VNS007/L097.png\n",
       "Name: 0, Length: 11046, dtype: object"
      ]
     },
     "execution_count": 7,
     "metadata": {},
     "output_type": "execute_result"
    }
   ],
   "source": [
    "a"
   ]
  },
  {
   "cell_type": "code",
   "execution_count": 12,
   "metadata": {},
   "outputs": [],
   "source": [
    "c = np.arange(10)"
   ]
  },
  {
   "cell_type": "code",
   "execution_count": 13,
   "metadata": {},
   "outputs": [
    {
     "data": {
      "text/plain": [
       "array([0, 1, 2, 3, 4, 5, 6, 7, 8, 9])"
      ]
     },
     "execution_count": 13,
     "metadata": {},
     "output_type": "execute_result"
    }
   ],
   "source": [
    "c"
   ]
  },
  {
   "cell_type": "code",
   "execution_count": 15,
   "metadata": {},
   "outputs": [],
   "source": [
    "d = a.iloc[c]"
   ]
  },
  {
   "cell_type": "code",
   "execution_count": 16,
   "metadata": {},
   "outputs": [
    {
     "data": {
      "text/plain": [
       "'aVP097/R001.png'"
      ]
     },
     "execution_count": 16,
     "metadata": {},
     "output_type": "execute_result"
    }
   ],
   "source": [
    "'a'+d[0]"
   ]
  },
  {
   "cell_type": "code",
   "execution_count": 17,
   "metadata": {},
   "outputs": [
    {
     "name": "stdout",
     "output_type": "stream",
     "text": [
      "0 a/VP097/R001.png\n",
      "1 a/VP097/R208.png\n",
      "2 a/VP097/R041.png\n",
      "3 a/VP097/R085.png\n",
      "4 a/VP097/R190.png\n",
      "5 a/VP097/R123.png\n",
      "6 a/VP097/R044.png\n",
      "7 a/VP097/R007.png\n",
      "8 a/VP097/R158.png\n",
      "9 a/VP097/R139.png\n"
     ]
    }
   ],
   "source": [
    "for i, j in enumerate(d):\n",
    "    print(i, 'a/'+j)"
   ]
  },
  {
   "cell_type": "code",
   "execution_count": 43,
   "metadata": {},
   "outputs": [
    {
     "data": {
      "text/plain": [
       "array([0])"
      ]
     },
     "execution_count": 43,
     "metadata": {},
     "output_type": "execute_result"
    }
   ],
   "source": [
    "df.columns.values"
   ]
  },
  {
   "cell_type": "code",
   "execution_count": null,
   "metadata": {},
   "outputs": [],
   "source": []
  },
  {
   "cell_type": "code",
   "execution_count": 57,
   "metadata": {},
   "outputs": [],
   "source": [
    "kf = KFold(n_splits=2)"
   ]
  },
  {
   "cell_type": "code",
   "execution_count": 90,
   "metadata": {},
   "outputs": [],
   "source": [
    "def get_train_val_split(data_path=\"../Carotid-Data/Carotid-Data/images/\", \n",
    "                        save_path=\"dataset/\",\n",
    "                        n_splits=5, \n",
    "                        seed=960630):\n",
    "    os.makedirs(save_path + 'split/', exist_ok=True)\n",
    "    kf = KFold(n_splits=n_splits, random_state=seed, shuffle=True)\n",
    "    df = pd.DataFrame(os.listdir(data_path))\n",
    "    for fold, (train_idx, val_idx) in enumerate(kf.split(df)):\n",
    "        train_df, val_df = [], []\n",
    "        for image_dir in df.iloc[train_idx].values:\n",
    "            image_ids = os.listdir(data_path+image_dir[0])\n",
    "            for image_id in image_ids:\n",
    "                train_df.append(image_dir[0]+'/'+image_id)\n",
    "\n",
    "        for image_dir in df.iloc[val_idx].values:\n",
    "            image_ids = os.listdir(data_path+image_dir[0])\n",
    "            for i in range(len(image_ids)):\n",
    "                val_df.append(image_dir[0]+'/'+image_ids[i])\n",
    "        \n",
    "        pd.DataFrame(train_df).to_csv(save_path + 'split/' + '/train_fold_%s_seed_%s.csv'%(fold, seed))\n",
    "        pd.DataFrame(val_df).to_csv(save_path + 'split/' + '/val_fold_%s_seed_%s.csv'%(fold, seed))\n",
    "      \n",
    "    return\n",
    "#         print(fold,image_ids[0]+'/'+image_ids)\n",
    "#         print(os.listdir(\"../Carotid-Data/Carotid-Data/images/\"+x[0]))"
   ]
  },
  {
   "cell_type": "code",
   "execution_count": 91,
   "metadata": {},
   "outputs": [],
   "source": [
    "get_train_val_split()"
   ]
  },
  {
   "cell_type": "code",
   "execution_count": 92,
   "metadata": {},
   "outputs": [],
   "source": [
    "a = pd.read_csv('dataset/split/train_fold_0_seed_960630.csv')"
   ]
  },
  {
   "cell_type": "code",
   "execution_count": 96,
   "metadata": {},
   "outputs": [
    {
     "ename": "AttributeError",
     "evalue": "'numpy.ndarray' object has no attribute 'to_list'",
     "output_type": "error",
     "traceback": [
      "\u001b[0;31m---------------------------------------------------------------------------\u001b[0m",
      "\u001b[0;31mAttributeError\u001b[0m                            Traceback (most recent call last)",
      "\u001b[0;32m<ipython-input-96-d106e11e54a1>\u001b[0m in \u001b[0;36m<module>\u001b[0;34m\u001b[0m\n\u001b[0;32m----> 1\u001b[0;31m \u001b[0ma\u001b[0m\u001b[0;34m[\u001b[0m\u001b[0;34m'0'\u001b[0m\u001b[0;34m]\u001b[0m\u001b[0;34m.\u001b[0m\u001b[0mvalues\u001b[0m\u001b[0;34m.\u001b[0m\u001b[0mto_list\u001b[0m\u001b[0;34m(\u001b[0m\u001b[0;34m)\u001b[0m\u001b[0;34m\u001b[0m\u001b[0;34m\u001b[0m\u001b[0m\n\u001b[0m",
      "\u001b[0;31mAttributeError\u001b[0m: 'numpy.ndarray' object has no attribute 'to_list'"
     ]
    }
   ],
   "source": [
    "a['0'].values"
   ]
  },
  {
   "cell_type": "code",
   "execution_count": 76,
   "metadata": {},
   "outputs": [
    {
     "data": {
      "text/plain": [
       "6838"
      ]
     },
     "execution_count": 76,
     "metadata": {},
     "output_type": "execute_result"
    }
   ],
   "source": [
    "len(val_df)"
   ]
  },
  {
   "cell_type": "code",
   "execution_count": 77,
   "metadata": {},
   "outputs": [
    {
     "data": {
      "text/plain": [
       "['VP106/R001.png',\n",
       " 'VP106/R208.png',\n",
       " 'VP106/L167.png',\n",
       " 'VP106/L105.png',\n",
       " 'VP106/R041.png',\n",
       " 'VP106/R085.png',\n",
       " 'VP106/L028.png',\n",
       " 'VP106/L066.png',\n",
       " 'VP106/L130.png',\n",
       " 'VP106/R190.png']"
      ]
     },
     "execution_count": 77,
     "metadata": {},
     "output_type": "execute_result"
    }
   ],
   "source": [
    "val_df[0:10]"
   ]
  },
  {
   "cell_type": "code",
   "execution_count": 10,
   "metadata": {},
   "outputs": [
    {
     "data": {
      "text/plain": [
       "(array([16, 17, 18, 19, 20, 21, 22, 23, 24, 25, 26, 27, 28, 29, 30]),\n",
       " array([ 0,  1,  2,  3,  4,  5,  6,  7,  8,  9, 10, 11, 12, 13, 14, 15]))"
      ]
     },
     "execution_count": 10,
     "metadata": {},
     "output_type": "execute_result"
    }
   ],
   "source": [
    "train_df"
   ]
  },
  {
   "cell_type": "code",
   "execution_count": 11,
   "metadata": {},
   "outputs": [
    {
     "data": {
      "text/plain": [
       "(array([ 0,  1,  2,  3,  4,  5,  6,  7,  8,  9, 10, 11, 12, 13, 14, 15]),\n",
       " array([16, 17, 18, 19, 20, 21, 22, 23, 24, 25, 26, 27, 28, 29, 30]))"
      ]
     },
     "execution_count": 11,
     "metadata": {},
     "output_type": "execute_result"
    }
   ],
   "source": [
    "test_df"
   ]
  },
  {
   "cell_type": "code",
   "execution_count": null,
   "metadata": {},
   "outputs": [],
   "source": []
  }
 ],
 "metadata": {
  "kernelspec": {
   "display_name": "Python 3",
   "language": "python",
   "name": "python3"
  },
  "language_info": {
   "codemirror_mode": {
    "name": "ipython",
    "version": 3
   },
   "file_extension": ".py",
   "mimetype": "text/x-python",
   "name": "python",
   "nbconvert_exporter": "python",
   "pygments_lexer": "ipython3",
   "version": "3.7.6"
  }
 },
 "nbformat": 4,
 "nbformat_minor": 4
}
