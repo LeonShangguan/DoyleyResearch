{
 "cells": [
  {
   "cell_type": "code",
   "execution_count": 31,
   "metadata": {},
   "outputs": [],
   "source": [
    "import os\n",
    "import pandas as pd\n",
    "from sklearn.model_selection import GroupKFold, KFold, StratifiedKFold"
   ]
  },
  {
   "cell_type": "code",
   "execution_count": 42,
   "metadata": {},
   "outputs": [],
   "source": []
  },
  {
   "cell_type": "code",
   "execution_count": 43,
   "metadata": {},
   "outputs": [
    {
     "data": {
      "text/plain": [
       "array([0])"
      ]
     },
     "execution_count": 43,
     "metadata": {},
     "output_type": "execute_result"
    }
   ],
   "source": [
    "df.columns.values"
   ]
  },
  {
   "cell_type": "code",
   "execution_count": null,
   "metadata": {},
   "outputs": [],
   "source": []
  },
  {
   "cell_type": "code",
   "execution_count": 57,
   "metadata": {},
   "outputs": [],
   "source": [
    "kf = KFold(n_splits=2)"
   ]
  },
  {
   "cell_type": "code",
   "execution_count": 81,
   "metadata": {},
   "outputs": [],
   "source": [
    "def get_train_val_split(data_path=\"../Carotid-Data/Carotid-Data/images/\", \n",
    "                        save_path=\"/home/leon/Leon/DoyleyResearch/Code/\",\n",
    "                        n_split=5, \n",
    "                        seed=960630):\n",
    "    os.makedirs(save_path + 'split/', exist_ok=True)\n",
    "    kf = KFold(n_split=n_split, random_state=seed)\n",
    "    df = pd.DataFrame(os.listdir(data_path))\n",
    "    for fold, (train_idx, val_idx) in enumerate(kf.split(df)):\n",
    "        train_df, val_df = [], []\n",
    "        for image_dir in df.iloc[train_idx].values:\n",
    "            image_ids = os.listdir(data_path+image_dir[0])\n",
    "            for image_id in image_ids:\n",
    "                train_df.append(image_dir[0]+'/'+image_id)\n",
    "\n",
    "        for image_dir in df.iloc[val_idx].values:\n",
    "            image_ids = os.listdir(data_path+image_dir[0])\n",
    "            for i in range(len(image_ids)):\n",
    "                val_df.append(image_dir[0]+'/'+image_ids[i])\n",
    "        \n",
    "        train_df.to_csv(save_path + 'split/' + '/train_fold_%s_seed_%s.csv'%(fold, seed))\n",
    "        val_df.to_csv(save_path + 'split/' + '/val_fold_%s_seed_%s.csv'%(fold, seed))\n",
    "      \n",
    "    return\n",
    "#         print(fold,image_ids[0]+'/'+image_ids)\n",
    "#         print(os.listdir(\"../Carotid-Data/Carotid-Data/images/\"+x[0]))"
   ]
  },
  {
   "cell_type": "code",
   "execution_count": 75,
   "metadata": {},
   "outputs": [
    {
     "data": {
      "text/plain": [
       "7050"
      ]
     },
     "execution_count": 75,
     "metadata": {},
     "output_type": "execute_result"
    }
   ],
   "source": [
    "len(train_df)"
   ]
  },
  {
   "cell_type": "code",
   "execution_count": 76,
   "metadata": {},
   "outputs": [
    {
     "data": {
      "text/plain": [
       "6838"
      ]
     },
     "execution_count": 76,
     "metadata": {},
     "output_type": "execute_result"
    }
   ],
   "source": [
    "len(val_df)"
   ]
  },
  {
   "cell_type": "code",
   "execution_count": 77,
   "metadata": {},
   "outputs": [
    {
     "data": {
      "text/plain": [
       "['VP106/R001.png',\n",
       " 'VP106/R208.png',\n",
       " 'VP106/L167.png',\n",
       " 'VP106/L105.png',\n",
       " 'VP106/R041.png',\n",
       " 'VP106/R085.png',\n",
       " 'VP106/L028.png',\n",
       " 'VP106/L066.png',\n",
       " 'VP106/L130.png',\n",
       " 'VP106/R190.png']"
      ]
     },
     "execution_count": 77,
     "metadata": {},
     "output_type": "execute_result"
    }
   ],
   "source": [
    "val_df[0:10]"
   ]
  },
  {
   "cell_type": "code",
   "execution_count": 10,
   "metadata": {},
   "outputs": [
    {
     "data": {
      "text/plain": [
       "(array([16, 17, 18, 19, 20, 21, 22, 23, 24, 25, 26, 27, 28, 29, 30]),\n",
       " array([ 0,  1,  2,  3,  4,  5,  6,  7,  8,  9, 10, 11, 12, 13, 14, 15]))"
      ]
     },
     "execution_count": 10,
     "metadata": {},
     "output_type": "execute_result"
    }
   ],
   "source": [
    "train_df"
   ]
  },
  {
   "cell_type": "code",
   "execution_count": 11,
   "metadata": {},
   "outputs": [
    {
     "data": {
      "text/plain": [
       "(array([ 0,  1,  2,  3,  4,  5,  6,  7,  8,  9, 10, 11, 12, 13, 14, 15]),\n",
       " array([16, 17, 18, 19, 20, 21, 22, 23, 24, 25, 26, 27, 28, 29, 30]))"
      ]
     },
     "execution_count": 11,
     "metadata": {},
     "output_type": "execute_result"
    }
   ],
   "source": [
    "test_df"
   ]
  },
  {
   "cell_type": "code",
   "execution_count": null,
   "metadata": {},
   "outputs": [],
   "source": []
  }
 ],
 "metadata": {
  "kernelspec": {
   "display_name": "Python 3",
   "language": "python",
   "name": "python3"
  },
  "language_info": {
   "codemirror_mode": {
    "name": "ipython",
    "version": 3
   },
   "file_extension": ".py",
   "mimetype": "text/x-python",
   "name": "python",
   "nbconvert_exporter": "python",
   "pygments_lexer": "ipython3",
   "version": "3.7.6"
  }
 },
 "nbformat": 4,
 "nbformat_minor": 4
}
